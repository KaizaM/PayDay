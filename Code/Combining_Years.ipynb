{
 "cells": [
  {
   "cell_type": "code",
   "execution_count": 1,
   "id": "505e560a",
   "metadata": {},
   "outputs": [],
   "source": [
    "import pandas as pd\n",
    "import warnings\n",
    "warnings.filterwarnings(\"once\")"
   ]
  },
  {
   "cell_type": "code",
   "execution_count": 2,
   "id": "17d55143",
   "metadata": {},
   "outputs": [],
   "source": [
    "#import 2022 csv\n",
    "data22 = pd.read_csv(\"../Outputs/2022.csv\")\n",
    "data22 = data22.rename(columns=\n",
    "                       {\"YearsCodePro\": \"Experience_Years\", \n",
    "                        \"DevType\": \"Job_Position\", \n",
    "                        \"ConvertedCompYearly\": \"Salary\",\n",
    "                        \"OrgSize\": \"Company_Size\"\n",
    "\n",
    "                       })\n",
    "# data22.head()"
   ]
  },
  {
   "cell_type": "code",
   "execution_count": 3,
   "id": "c5ca96ba",
   "metadata": {},
   "outputs": [],
   "source": [
    "#import 2021 csv\n",
    "data21 = pd.read_csv(\"../Outputs/2021.csv\")\n",
    "data21 = data21.rename(columns=\n",
    "                       {\"YearsCodePro\": \"Experience_Years\", \n",
    "                        \"DevType\": \"Job_Position\", \n",
    "                        \"ConvertedCompYearly\": \"Salary\",\n",
    "                        \"OrgSize\": \"Company_Size\"\n",
    "                       })\n",
    "# data21.head()"
   ]
  },
  {
   "cell_type": "code",
   "execution_count": 4,
   "id": "e3a578c0",
   "metadata": {},
   "outputs": [],
   "source": [
    "#import 2020 csv\n",
    "data20 = pd.read_csv(\"../Outputs/2020.csv\")\n",
    "data20 = data20.rename(columns=\n",
    "                       {\"YearsCodePro\": \"Experience_Years\", \n",
    "                        \"DevType\": \"Job_Position\", \n",
    "                        \"ConvertedComp\": \"Salary\",\n",
    "                        \"OrgSize\": \"Company_Size\"\n",
    "                       })\n",
    "# data20.head()"
   ]
  },
  {
   "cell_type": "code",
   "execution_count": 5,
   "id": "4fac745a",
   "metadata": {},
   "outputs": [],
   "source": [
    "#import 2019 csv\n",
    "data19 = pd.read_csv(\"../Outputs/2019.csv\")\n",
    "data19 = data19.rename(columns=\n",
    "                       {\"YearsCodePro\": \"Experience_Years\", \n",
    "                        \"DevType\": \"Job_Position\", \n",
    "                        \"CompTotal\": \"Salary\",\n",
    "                        \"OrgSize\": \"Company_Size\"\n",
    "                       })\n",
    "# data19.head()"
   ]
  },
  {
   "cell_type": "code",
   "execution_count": 6,
   "id": "414b47da",
   "metadata": {},
   "outputs": [],
   "source": [
    "#import 2018 csv\n",
    "data18 = pd.read_csv(\"../Outputs/2018.csv\")\n",
    "data18 = data18.rename(columns=\n",
    "                       {\"YearsCodingProf\": \"Experience_Years\", \n",
    "                        \"DevType\": \"Job_Position\", \n",
    "                        \"ConvertedSalary\": \"Salary\",\n",
    "                        \"CompanySize\": \"Company_Size\"\n",
    "                       })\n",
    "# data18.head()"
   ]
  },
  {
   "cell_type": "code",
   "execution_count": 7,
   "id": "9abae56a",
   "metadata": {},
   "outputs": [],
   "source": [
    "#import 2017 csv\n",
    "data17 = pd.read_csv(\"../Outputs/2017.csv\")\n",
    "data17 = data17.rename(columns=\n",
    "                       {\"YearsCodedJob\": \"Experience_Years\", \n",
    "                        \"DeveloperType\": \"Job_Position\", \n",
    "                        \"Salary\": \"Salary\",\n",
    "                        \"CompanySize\": \"Company_Size\"\n",
    "                       })\n",
    "# data17.head()"
   ]
  },
  {
   "cell_type": "code",
   "execution_count": 8,
   "id": "a5e83428",
   "metadata": {},
   "outputs": [],
   "source": [
    "#import 2016 csv\n",
    "data16 = pd.read_csv(\"../Outputs/2016.csv\")\n",
    "data16 = data16.rename(columns=\n",
    "                       {\"experience_range\": \"Experience_Years\", \n",
    "                        \"occupation\": \"Job_Position\", \n",
    "                        \"salary_range\": \"Salary\",\n",
    "                        \"company_size_range\": \"Company_Size\"\n",
    "                       })\n",
    "# data16.head()"
   ]
  },
  {
   "cell_type": "markdown",
   "id": "85349014",
   "metadata": {},
   "source": [
    "## Combine all Years into One Dataframe"
   ]
  },
  {
   "cell_type": "code",
   "execution_count": 9,
   "id": "55216e0f",
   "metadata": {},
   "outputs": [],
   "source": [
    "salary_data = pd.concat([data22,data21,data20,data19,data18,data17,data16],ignore_index=True)\n",
    "# salary_data"
   ]
  },
  {
   "cell_type": "markdown",
   "id": "639a3674",
   "metadata": {},
   "source": [
    "## Filter down the Company Size"
   ]
  },
  {
   "cell_type": "code",
   "execution_count": 10,
   "id": "a21fa700",
   "metadata": {},
   "outputs": [],
   "source": [
    "# salary_data['Company_Size'].value_counts()"
   ]
  },
  {
   "cell_type": "code",
   "execution_count": 11,
   "id": "8c7a79b8",
   "metadata": {},
   "outputs": [],
   "source": [
    "salary_data['Company_Size'] = salary_data['Company_Size'].replace([\"I don't know\"],[\"0\"])\n",
    "salary_data['Company_Size'] = salary_data['Company_Size'].replace([\"Fewer than 10 employees\"],[\"2-9\"])\n",
    "salary_data['Company_Size'] = salary_data['Company_Size'].replace([\"1\"],[\"0\"])"
   ]
  },
  {
   "cell_type": "code",
   "execution_count": 12,
   "id": "91202d8d",
   "metadata": {},
   "outputs": [],
   "source": [
    "# drop self employed or ambiguous answers like \"I don't kow\"\n",
    "salary_data_filtered = salary_data[salary_data['Company_Size'] != '0']\n",
    "# salary_data_filtered['Company_Size'].value_counts()"
   ]
  },
  {
   "cell_type": "code",
   "execution_count": 13,
   "id": "f462f356",
   "metadata": {},
   "outputs": [
    {
     "name": "stderr",
     "output_type": "stream",
     "text": [
      "C:\\Users\\Kaiza\\AppData\\Local\\Temp\\ipykernel_32520\\3670352103.py:1: SettingWithCopyWarning: \n",
      "A value is trying to be set on a copy of a slice from a DataFrame.\n",
      "Try using .loc[row_indexer,col_indexer] = value instead\n",
      "\n",
      "See the caveats in the documentation: https://pandas.pydata.org/pandas-docs/stable/user_guide/indexing.html#returning-a-view-versus-a-copy\n",
      "  salary_data_filtered['Company_Size'] = salary_data_filtered['Company_Size'].replace([\"10-100\"],[100])\n"
     ]
    }
   ],
   "source": [
    "salary_data_filtered['Company_Size'] = salary_data_filtered['Company_Size'].replace([\"10-100\"],[100])\n",
    "salary_data_filtered['Company_Size'] = salary_data_filtered['Company_Size'].replace([\"100-1000\"],[1000])\n",
    "salary_data_filtered['Company_Size'] = salary_data_filtered['Company_Size'].replace([\"10000+\"],[100000])\n",
    "salary_data_filtered['Company_Size'] = salary_data_filtered['Company_Size'].replace([\"1000-4999\"],[50000])\n",
    "salary_data_filtered['Company_Size'] = salary_data_filtered['Company_Size'].replace([\"2-9\"],[10])\n",
    "salary_data_filtered['Company_Size'] = salary_data_filtered['Company_Size'].replace([\"5000-9999\"],[10000])\n",
    "# salary_data_filtered['Company_Size'].value_counts()"
   ]
  },
  {
   "cell_type": "code",
   "execution_count": 14,
   "id": "3c836d5f",
   "metadata": {},
   "outputs": [
    {
     "data": {
      "text/html": [
       "<div>\n",
       "<style scoped>\n",
       "    .dataframe tbody tr th:only-of-type {\n",
       "        vertical-align: middle;\n",
       "    }\n",
       "\n",
       "    .dataframe tbody tr th {\n",
       "        vertical-align: top;\n",
       "    }\n",
       "\n",
       "    .dataframe thead th {\n",
       "        text-align: right;\n",
       "    }\n",
       "</style>\n",
       "<table border=\"1\" class=\"dataframe\">\n",
       "  <thead>\n",
       "    <tr style=\"text-align: right;\">\n",
       "      <th></th>\n",
       "      <th>Experience_Years</th>\n",
       "      <th>Job_Position</th>\n",
       "      <th>Salary</th>\n",
       "      <th>Company_Size</th>\n",
       "      <th>Year</th>\n",
       "    </tr>\n",
       "  </thead>\n",
       "  <tbody>\n",
       "    <tr>\n",
       "      <th>0</th>\n",
       "      <td>15</td>\n",
       "      <td>Data Analyst</td>\n",
       "      <td>130000.0</td>\n",
       "      <td>1000</td>\n",
       "      <td>2022</td>\n",
       "    </tr>\n",
       "    <tr>\n",
       "      <th>1</th>\n",
       "      <td>22</td>\n",
       "      <td>Data Analyst</td>\n",
       "      <td>450000.0</td>\n",
       "      <td>1000</td>\n",
       "      <td>2022</td>\n",
       "    </tr>\n",
       "    <tr>\n",
       "      <th>2</th>\n",
       "      <td>5</td>\n",
       "      <td>Data Analyst</td>\n",
       "      <td>78084.0</td>\n",
       "      <td>100000</td>\n",
       "      <td>2022</td>\n",
       "    </tr>\n",
       "    <tr>\n",
       "      <th>3</th>\n",
       "      <td>12</td>\n",
       "      <td>Data Analyst</td>\n",
       "      <td>15480.0</td>\n",
       "      <td>100000</td>\n",
       "      <td>2022</td>\n",
       "    </tr>\n",
       "    <tr>\n",
       "      <th>4</th>\n",
       "      <td>11</td>\n",
       "      <td>Data Analyst</td>\n",
       "      <td>200000.0</td>\n",
       "      <td>50000</td>\n",
       "      <td>2022</td>\n",
       "    </tr>\n",
       "    <tr>\n",
       "      <th>...</th>\n",
       "      <td>...</td>\n",
       "      <td>...</td>\n",
       "      <td>...</td>\n",
       "      <td>...</td>\n",
       "      <td>...</td>\n",
       "    </tr>\n",
       "    <tr>\n",
       "      <th>45567</th>\n",
       "      <td>5</td>\n",
       "      <td>Data Scientist</td>\n",
       "      <td>110000.0</td>\n",
       "      <td>100</td>\n",
       "      <td>2016</td>\n",
       "    </tr>\n",
       "    <tr>\n",
       "      <th>45568</th>\n",
       "      <td>10</td>\n",
       "      <td>Data Scientist</td>\n",
       "      <td>190000.0</td>\n",
       "      <td>100</td>\n",
       "      <td>2016</td>\n",
       "    </tr>\n",
       "    <tr>\n",
       "      <th>45569</th>\n",
       "      <td>10</td>\n",
       "      <td>Data Scientist</td>\n",
       "      <td>160000.0</td>\n",
       "      <td>1000</td>\n",
       "      <td>2016</td>\n",
       "    </tr>\n",
       "    <tr>\n",
       "      <th>45570</th>\n",
       "      <td>15</td>\n",
       "      <td>Data Scientist</td>\n",
       "      <td>200000.0</td>\n",
       "      <td>10</td>\n",
       "      <td>2016</td>\n",
       "    </tr>\n",
       "    <tr>\n",
       "      <th>45571</th>\n",
       "      <td>10</td>\n",
       "      <td>Data Scientist</td>\n",
       "      <td>50000.0</td>\n",
       "      <td>100</td>\n",
       "      <td>2016</td>\n",
       "    </tr>\n",
       "  </tbody>\n",
       "</table>\n",
       "<p>43603 rows × 5 columns</p>\n",
       "</div>"
      ],
      "text/plain": [
       "      Experience_Years    Job_Position    Salary  Company_Size  Year\n",
       "0                   15    Data Analyst  130000.0          1000  2022\n",
       "1                   22    Data Analyst  450000.0          1000  2022\n",
       "2                    5    Data Analyst   78084.0        100000  2022\n",
       "3                   12    Data Analyst   15480.0        100000  2022\n",
       "4                   11    Data Analyst  200000.0         50000  2022\n",
       "...                ...             ...       ...           ...   ...\n",
       "45567                5  Data Scientist  110000.0           100  2016\n",
       "45568               10  Data Scientist  190000.0           100  2016\n",
       "45569               10  Data Scientist  160000.0          1000  2016\n",
       "45570               15  Data Scientist  200000.0            10  2016\n",
       "45571               10  Data Scientist   50000.0           100  2016\n",
       "\n",
       "[43603 rows x 5 columns]"
      ]
     },
     "execution_count": 14,
     "metadata": {},
     "output_type": "execute_result"
    }
   ],
   "source": [
    "salary_data_filtered"
   ]
  },
  {
   "cell_type": "code",
   "execution_count": 20,
   "id": "5b7010a4",
   "metadata": {},
   "outputs": [
    {
     "name": "stderr",
     "output_type": "stream",
     "text": [
      "C:\\Users\\Kaiza\\AppData\\Local\\Temp\\ipykernel_32520\\1512833048.py:1: SettingWithCopyWarning: \n",
      "A value is trying to be set on a copy of a slice from a DataFrame.\n",
      "Try using .loc[row_indexer,col_indexer] = value instead\n",
      "\n",
      "See the caveats in the documentation: https://pandas.pydata.org/pandas-docs/stable/user_guide/indexing.html#returning-a-view-versus-a-copy\n",
      "  salary_data_filtered['Experience_Years'] = salary_data_filtered['Experience_Years'].replace([\"Less than 1 year\"],[1])\n"
     ]
    }
   ],
   "source": [
    "salary_data_filtered['Experience_Years'] = salary_data_filtered['Experience_Years'].replace([\"Less than 1 year\"],[1])\n",
    "salary_data_filtered['Experience_Years'] = salary_data_filtered['Experience_Years'].replace([\"More than 50 years\"],[50])"
   ]
  },
  {
   "cell_type": "code",
   "execution_count": 21,
   "id": "7f960662",
   "metadata": {},
   "outputs": [],
   "source": [
    "salary_data_filtered.to_csv('../Outputs/Full_Salary_Data.csv', index=False)"
   ]
  },
  {
   "cell_type": "code",
   "execution_count": null,
   "id": "450eec50",
   "metadata": {},
   "outputs": [],
   "source": []
  }
 ],
 "metadata": {
  "kernelspec": {
   "display_name": "Python 3 (ipykernel)",
   "language": "python",
   "name": "python3"
  },
  "language_info": {
   "codemirror_mode": {
    "name": "ipython",
    "version": 3
   },
   "file_extension": ".py",
   "mimetype": "text/x-python",
   "name": "python",
   "nbconvert_exporter": "python",
   "pygments_lexer": "ipython3",
   "version": "3.9.12"
  }
 },
 "nbformat": 4,
 "nbformat_minor": 5
}
