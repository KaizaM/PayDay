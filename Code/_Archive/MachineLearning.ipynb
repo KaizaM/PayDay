{
 "cells": [
  {
   "cell_type": "code",
   "execution_count": 1,
   "id": "b7251f06",
   "metadata": {},
   "outputs": [],
   "source": [
    "import pandas as pd\n",
    "import matplotlib.pyplot as plt\n",
    "\n",
    "from sklearn.manifold import TSNE\n",
    "from sklearn.decomposition import PCA\n",
    "from sklearn.preprocessing import StandardScaler\n",
    "from sklearn.model_selection import train_test_split\n",
    "from sklearn.cluster import KMeans\n",
    "from pathlib import Path\n",
    "\n",
    "import numpy as np\n",
    "import pandas as pd\n",
    "from pathlib import Path\n",
    "from sklearn.model_selection import train_test_split\n",
    "from sklearn.linear_model import LogisticRegression\n",
    "from sklearn.ensemble import RandomForestClassifier\n",
    "from sklearn.preprocessing import StandardScaler\n",
    "from sklearn.linear_model import LinearRegression\n"
   ]
  },
  {
   "cell_type": "code",
   "execution_count": 25,
   "id": "a2e658fd",
   "metadata": {},
   "outputs": [
    {
     "data": {
      "text/html": [
       "<div>\n",
       "<style scoped>\n",
       "    .dataframe tbody tr th:only-of-type {\n",
       "        vertical-align: middle;\n",
       "    }\n",
       "\n",
       "    .dataframe tbody tr th {\n",
       "        vertical-align: top;\n",
       "    }\n",
       "\n",
       "    .dataframe thead th {\n",
       "        text-align: right;\n",
       "    }\n",
       "</style>\n",
       "<table border=\"1\" class=\"dataframe\">\n",
       "  <thead>\n",
       "    <tr style=\"text-align: right;\">\n",
       "      <th></th>\n",
       "      <th>Experience_Years</th>\n",
       "      <th>Job_Position</th>\n",
       "      <th>Salary</th>\n",
       "      <th>Company_Size</th>\n",
       "      <th>Year</th>\n",
       "    </tr>\n",
       "  </thead>\n",
       "  <tbody>\n",
       "    <tr>\n",
       "      <th>0</th>\n",
       "      <td>15</td>\n",
       "      <td>Data Analyst</td>\n",
       "      <td>130000.0</td>\n",
       "      <td>1000</td>\n",
       "      <td>2022</td>\n",
       "    </tr>\n",
       "    <tr>\n",
       "      <th>1</th>\n",
       "      <td>22</td>\n",
       "      <td>Data Analyst</td>\n",
       "      <td>450000.0</td>\n",
       "      <td>1000</td>\n",
       "      <td>2022</td>\n",
       "    </tr>\n",
       "    <tr>\n",
       "      <th>2</th>\n",
       "      <td>5</td>\n",
       "      <td>Data Analyst</td>\n",
       "      <td>78084.0</td>\n",
       "      <td>100000</td>\n",
       "      <td>2022</td>\n",
       "    </tr>\n",
       "    <tr>\n",
       "      <th>3</th>\n",
       "      <td>12</td>\n",
       "      <td>Data Analyst</td>\n",
       "      <td>15480.0</td>\n",
       "      <td>100000</td>\n",
       "      <td>2022</td>\n",
       "    </tr>\n",
       "    <tr>\n",
       "      <th>4</th>\n",
       "      <td>11</td>\n",
       "      <td>Data Analyst</td>\n",
       "      <td>200000.0</td>\n",
       "      <td>50000</td>\n",
       "      <td>2022</td>\n",
       "    </tr>\n",
       "    <tr>\n",
       "      <th>...</th>\n",
       "      <td>...</td>\n",
       "      <td>...</td>\n",
       "      <td>...</td>\n",
       "      <td>...</td>\n",
       "      <td>...</td>\n",
       "    </tr>\n",
       "    <tr>\n",
       "      <th>43598</th>\n",
       "      <td>5</td>\n",
       "      <td>Data Scientist</td>\n",
       "      <td>110000.0</td>\n",
       "      <td>100</td>\n",
       "      <td>2016</td>\n",
       "    </tr>\n",
       "    <tr>\n",
       "      <th>43599</th>\n",
       "      <td>10</td>\n",
       "      <td>Data Scientist</td>\n",
       "      <td>190000.0</td>\n",
       "      <td>100</td>\n",
       "      <td>2016</td>\n",
       "    </tr>\n",
       "    <tr>\n",
       "      <th>43600</th>\n",
       "      <td>10</td>\n",
       "      <td>Data Scientist</td>\n",
       "      <td>160000.0</td>\n",
       "      <td>1000</td>\n",
       "      <td>2016</td>\n",
       "    </tr>\n",
       "    <tr>\n",
       "      <th>43601</th>\n",
       "      <td>15</td>\n",
       "      <td>Data Scientist</td>\n",
       "      <td>200000.0</td>\n",
       "      <td>10</td>\n",
       "      <td>2016</td>\n",
       "    </tr>\n",
       "    <tr>\n",
       "      <th>43602</th>\n",
       "      <td>10</td>\n",
       "      <td>Data Scientist</td>\n",
       "      <td>50000.0</td>\n",
       "      <td>100</td>\n",
       "      <td>2016</td>\n",
       "    </tr>\n",
       "  </tbody>\n",
       "</table>\n",
       "<p>43603 rows × 5 columns</p>\n",
       "</div>"
      ],
      "text/plain": [
       "       Experience_Years    Job_Position    Salary  Company_Size  Year\n",
       "0                    15    Data Analyst  130000.0          1000  2022\n",
       "1                    22    Data Analyst  450000.0          1000  2022\n",
       "2                     5    Data Analyst   78084.0        100000  2022\n",
       "3                    12    Data Analyst   15480.0        100000  2022\n",
       "4                    11    Data Analyst  200000.0         50000  2022\n",
       "...                 ...             ...       ...           ...   ...\n",
       "43598                 5  Data Scientist  110000.0           100  2016\n",
       "43599                10  Data Scientist  190000.0           100  2016\n",
       "43600                10  Data Scientist  160000.0          1000  2016\n",
       "43601                15  Data Scientist  200000.0            10  2016\n",
       "43602                10  Data Scientist   50000.0           100  2016\n",
       "\n",
       "[43603 rows x 5 columns]"
      ]
     },
     "execution_count": 25,
     "metadata": {},
     "output_type": "execute_result"
    }
   ],
   "source": [
    "# Import the data\n",
    "salaries = pd.read_csv(\"../Outputs/Full_Salary_Data.csv\")\n",
    "salaries"
   ]
  },
  {
   "cell_type": "code",
   "execution_count": 26,
   "id": "4e47009e",
   "metadata": {},
   "outputs": [],
   "source": [
    "salaries['Job_Position'] = salaries['Job_Position'].replace([\"Data Analyst\"],[1])\n",
    "salaries['Job_Position'] = salaries['Job_Position'].replace([\"Data Scientist\"],[2])\n",
    "salaries['Job_Position'] = salaries['Job_Position'].replace([\"Machine Learning Engineer\"],[3])\n",
    "# salaries['Job_Position'].value_counts()"
   ]
  },
  {
   "cell_type": "code",
   "execution_count": 27,
   "id": "853a1bb1",
   "metadata": {},
   "outputs": [
    {
     "data": {
      "text/html": [
       "<div>\n",
       "<style scoped>\n",
       "    .dataframe tbody tr th:only-of-type {\n",
       "        vertical-align: middle;\n",
       "    }\n",
       "\n",
       "    .dataframe tbody tr th {\n",
       "        vertical-align: top;\n",
       "    }\n",
       "\n",
       "    .dataframe thead th {\n",
       "        text-align: right;\n",
       "    }\n",
       "</style>\n",
       "<table border=\"1\" class=\"dataframe\">\n",
       "  <thead>\n",
       "    <tr style=\"text-align: right;\">\n",
       "      <th></th>\n",
       "      <th>Experience_Years</th>\n",
       "      <th>Job_Position</th>\n",
       "      <th>Salary</th>\n",
       "      <th>Year</th>\n",
       "    </tr>\n",
       "  </thead>\n",
       "  <tbody>\n",
       "    <tr>\n",
       "      <th>0</th>\n",
       "      <td>15</td>\n",
       "      <td>1</td>\n",
       "      <td>130000.0</td>\n",
       "      <td>2022</td>\n",
       "    </tr>\n",
       "    <tr>\n",
       "      <th>1</th>\n",
       "      <td>22</td>\n",
       "      <td>1</td>\n",
       "      <td>450000.0</td>\n",
       "      <td>2022</td>\n",
       "    </tr>\n",
       "    <tr>\n",
       "      <th>2</th>\n",
       "      <td>5</td>\n",
       "      <td>1</td>\n",
       "      <td>78084.0</td>\n",
       "      <td>2022</td>\n",
       "    </tr>\n",
       "    <tr>\n",
       "      <th>3</th>\n",
       "      <td>12</td>\n",
       "      <td>1</td>\n",
       "      <td>15480.0</td>\n",
       "      <td>2022</td>\n",
       "    </tr>\n",
       "    <tr>\n",
       "      <th>4</th>\n",
       "      <td>11</td>\n",
       "      <td>1</td>\n",
       "      <td>200000.0</td>\n",
       "      <td>2022</td>\n",
       "    </tr>\n",
       "    <tr>\n",
       "      <th>5</th>\n",
       "      <td>5</td>\n",
       "      <td>1</td>\n",
       "      <td>54025.0</td>\n",
       "      <td>2022</td>\n",
       "    </tr>\n",
       "    <tr>\n",
       "      <th>6</th>\n",
       "      <td>3</td>\n",
       "      <td>1</td>\n",
       "      <td>58654.0</td>\n",
       "      <td>2022</td>\n",
       "    </tr>\n",
       "    <tr>\n",
       "      <th>7</th>\n",
       "      <td>20</td>\n",
       "      <td>1</td>\n",
       "      <td>68252.0</td>\n",
       "      <td>2022</td>\n",
       "    </tr>\n",
       "    <tr>\n",
       "      <th>8</th>\n",
       "      <td>12</td>\n",
       "      <td>1</td>\n",
       "      <td>93846.0</td>\n",
       "      <td>2022</td>\n",
       "    </tr>\n",
       "    <tr>\n",
       "      <th>9</th>\n",
       "      <td>5</td>\n",
       "      <td>1</td>\n",
       "      <td>34126.0</td>\n",
       "      <td>2022</td>\n",
       "    </tr>\n",
       "  </tbody>\n",
       "</table>\n",
       "</div>"
      ],
      "text/plain": [
       "   Experience_Years  Job_Position    Salary  Year\n",
       "0                15             1  130000.0  2022\n",
       "1                22             1  450000.0  2022\n",
       "2                 5             1   78084.0  2022\n",
       "3                12             1   15480.0  2022\n",
       "4                11             1  200000.0  2022\n",
       "5                 5             1   54025.0  2022\n",
       "6                 3             1   58654.0  2022\n",
       "7                20             1   68252.0  2022\n",
       "8                12             1   93846.0  2022\n",
       "9                 5             1   34126.0  2022"
      ]
     },
     "execution_count": 27,
     "metadata": {},
     "output_type": "execute_result"
    }
   ],
   "source": [
    "salaries = salaries.drop(columns='Company_Size')\n",
    "salaries.head(10)"
   ]
  },
  {
   "cell_type": "code",
   "execution_count": 5,
   "id": "44ea9d81",
   "metadata": {},
   "outputs": [],
   "source": [
    "# scaler = StandardScaler()\n",
    "# salary_scaled = scaler.fit_transform(salary_cluster)"
   ]
  },
  {
   "cell_type": "markdown",
   "id": "d412be5b",
   "metadata": {},
   "source": [
    "## PCA"
   ]
  },
  {
   "cell_type": "code",
   "execution_count": 6,
   "id": "7a1b3821",
   "metadata": {},
   "outputs": [],
   "source": [
    "# pca = PCA(n_components=0.90)\n",
    "# pca = pca.fit_transform(salary_scaled)\n",
    "# pca_df = pd.DataFrame(salary_scaled)\n",
    "# pca_df.head()"
   ]
  },
  {
   "cell_type": "markdown",
   "id": "01f7486d",
   "metadata": {},
   "source": [
    "## TSNE"
   ]
  },
  {
   "cell_type": "code",
   "execution_count": 7,
   "id": "f8a5cb0d",
   "metadata": {},
   "outputs": [],
   "source": [
    "# tsne = TSNE(learning_rate=100)\n",
    "# tsne = tsne.fit_transform(pca_df)"
   ]
  },
  {
   "cell_type": "code",
   "execution_count": 8,
   "id": "5d2e0c36",
   "metadata": {},
   "outputs": [],
   "source": [
    "# plt.scatter(tsne[:,0],tsne[:,1])"
   ]
  },
  {
   "cell_type": "code",
   "execution_count": 9,
   "id": "e51d38d2",
   "metadata": {},
   "outputs": [],
   "source": [
    "# plt.scatter(x=pca_df[0], y=pca_df[1], \n",
    "#             c=pca_df[2])\n",
    "# plt.xlabel('1')\n",
    "# plt.ylabel('2')\n",
    "# plt.title('Iris clusters')\n",
    "# plt.show()"
   ]
  },
  {
   "cell_type": "markdown",
   "id": "4a79e13b",
   "metadata": {},
   "source": [
    "## K-Means"
   ]
  },
  {
   "cell_type": "code",
   "execution_count": 10,
   "id": "3765e05f",
   "metadata": {},
   "outputs": [],
   "source": [
    "# salary = []\n",
    "\n",
    "# for k in range(1,10):\n",
    "#     kmeans = KMeans(n_clusters=k, random_state=42)\n",
    "#     kmeans.fit(pca_df)\n",
    "#     salary.append(kmeans.inertia_)"
   ]
  },
  {
   "cell_type": "code",
   "execution_count": 11,
   "id": "ceef5925",
   "metadata": {},
   "outputs": [],
   "source": [
    "# elbow = pd.DataFrame({\"k\": range(1,10), \"salary\": salary})"
   ]
  },
  {
   "cell_type": "code",
   "execution_count": 12,
   "id": "08a798bc",
   "metadata": {},
   "outputs": [],
   "source": [
    "# plt.plot(elbow[\"k\"], elbow[\"salary\"])\n",
    "# plt.xticks(range(1,11))\n",
    "# plt.xlabel(\"Clusters\")\n",
    "# plt.ylabel(\"Salary\")\n",
    "# plt.title(\"K-Means Clusters\")\n",
    "# plt.show()"
   ]
  },
  {
   "cell_type": "markdown",
   "id": "00ddde12",
   "metadata": {},
   "source": [
    "## Forecasting"
   ]
  },
  {
   "cell_type": "code",
   "execution_count": 30,
   "id": "09401420",
   "metadata": {},
   "outputs": [
    {
     "data": {
      "text/html": [
       "<div>\n",
       "<style scoped>\n",
       "    .dataframe tbody tr th:only-of-type {\n",
       "        vertical-align: middle;\n",
       "    }\n",
       "\n",
       "    .dataframe tbody tr th {\n",
       "        vertical-align: top;\n",
       "    }\n",
       "\n",
       "    .dataframe thead th {\n",
       "        text-align: right;\n",
       "    }\n",
       "</style>\n",
       "<table border=\"1\" class=\"dataframe\">\n",
       "  <thead>\n",
       "    <tr style=\"text-align: right;\">\n",
       "      <th></th>\n",
       "      <th>Experience_Years</th>\n",
       "      <th>Job_Position</th>\n",
       "      <th>Salary</th>\n",
       "      <th>Year</th>\n",
       "    </tr>\n",
       "  </thead>\n",
       "  <tbody>\n",
       "    <tr>\n",
       "      <th>0</th>\n",
       "      <td>15</td>\n",
       "      <td>1</td>\n",
       "      <td>130000.0</td>\n",
       "      <td>2022</td>\n",
       "    </tr>\n",
       "    <tr>\n",
       "      <th>1</th>\n",
       "      <td>22</td>\n",
       "      <td>1</td>\n",
       "      <td>450000.0</td>\n",
       "      <td>2022</td>\n",
       "    </tr>\n",
       "    <tr>\n",
       "      <th>2</th>\n",
       "      <td>5</td>\n",
       "      <td>1</td>\n",
       "      <td>78084.0</td>\n",
       "      <td>2022</td>\n",
       "    </tr>\n",
       "    <tr>\n",
       "      <th>3</th>\n",
       "      <td>12</td>\n",
       "      <td>1</td>\n",
       "      <td>15480.0</td>\n",
       "      <td>2022</td>\n",
       "    </tr>\n",
       "    <tr>\n",
       "      <th>4</th>\n",
       "      <td>11</td>\n",
       "      <td>1</td>\n",
       "      <td>200000.0</td>\n",
       "      <td>2022</td>\n",
       "    </tr>\n",
       "  </tbody>\n",
       "</table>\n",
       "</div>"
      ],
      "text/plain": [
       "   Experience_Years  Job_Position    Salary  Year\n",
       "0                15             1  130000.0  2022\n",
       "1                22             1  450000.0  2022\n",
       "2                 5             1   78084.0  2022\n",
       "3                12             1   15480.0  2022\n",
       "4                11             1  200000.0  2022"
      ]
     },
     "execution_count": 30,
     "metadata": {},
     "output_type": "execute_result"
    }
   ],
   "source": [
    "salaries.head()"
   ]
  },
  {
   "cell_type": "code",
   "execution_count": 35,
   "id": "2ac02c7d",
   "metadata": {},
   "outputs": [],
   "source": [
    "# Split the data into X_train, X_test, y_train, y_test\n",
    "x_salary = salaries.drop(columns=['Salary','Year'])\n",
    "y_salary = salaries['Salary']\n",
    "\n",
    "x_train, x_test, y_train, y_test = train_test_split(x_salary, y_salary, random_state=50)"
   ]
  },
  {
   "cell_type": "code",
   "execution_count": 36,
   "id": "7fbaf661",
   "metadata": {},
   "outputs": [
    {
     "name": "stdout",
     "output_type": "stream",
     "text": [
      "Training Data Score: 8.65173574380318e-05\n",
      "Testing Data Score: -0.000125615299045867\n"
     ]
    }
   ],
   "source": [
    "# Train a Logistic Regression model print the model score\n",
    "classifier = LinearRegression()\n",
    "classifier.fit(x_train, y_train)\n",
    "\n",
    "print(f'Training Data Score: {classifier.score(x_train, y_train)}')\n",
    "print(f'Testing Data Score: {classifier.score(x_test, y_test)}')"
   ]
  },
  {
   "cell_type": "code",
   "execution_count": 37,
   "id": "7c5e3104",
   "metadata": {},
   "outputs": [
    {
     "ename": "NameError",
     "evalue": "name 'salary' is not defined",
     "output_type": "error",
     "traceback": [
      "\u001b[1;31m---------------------------------------------------------------------------\u001b[0m",
      "\u001b[1;31mNameError\u001b[0m                                 Traceback (most recent call last)",
      "Input \u001b[1;32mIn [37]\u001b[0m, in \u001b[0;36m<cell line: 1>\u001b[1;34m()\u001b[0m\n\u001b[1;32m----> 1\u001b[0m \u001b[43msalary\u001b[49m\u001b[38;5;241m.\u001b[39mdescribe()\n",
      "\u001b[1;31mNameError\u001b[0m: name 'salary' is not defined"
     ]
    }
   ],
   "source": []
  },
  {
   "cell_type": "code",
   "execution_count": null,
   "id": "01721ca5",
   "metadata": {},
   "outputs": [],
   "source": []
  },
  {
   "cell_type": "code",
   "execution_count": null,
   "id": "ed4aa341",
   "metadata": {},
   "outputs": [],
   "source": []
  },
  {
   "cell_type": "code",
   "execution_count": null,
   "id": "1c4c9eaa",
   "metadata": {},
   "outputs": [],
   "source": []
  },
  {
   "cell_type": "code",
   "execution_count": null,
   "id": "e3df5273",
   "metadata": {},
   "outputs": [],
   "source": []
  },
  {
   "cell_type": "code",
   "execution_count": null,
   "id": "2be8a2c7",
   "metadata": {},
   "outputs": [],
   "source": []
  },
  {
   "cell_type": "code",
   "execution_count": null,
   "id": "15fdd9fb",
   "metadata": {},
   "outputs": [],
   "source": []
  },
  {
   "cell_type": "code",
   "execution_count": null,
   "id": "cd557e21",
   "metadata": {},
   "outputs": [],
   "source": []
  },
  {
   "cell_type": "code",
   "execution_count": null,
   "id": "44bce4cd",
   "metadata": {},
   "outputs": [],
   "source": []
  },
  {
   "cell_type": "code",
   "execution_count": 15,
   "id": "ab249c2a",
   "metadata": {},
   "outputs": [],
   "source": [
    "# # Train a Random Forest Classifier model and print the model score\n",
    "# scaler = StandardScaler().fit(x_train)\n",
    "# x_train_scaled = scaler.transform(x_train)\n",
    "# x_test_scaled = scaler.transform(x_test)\n",
    "# clf = RandomForestClassifier(random_state=42).fit(x_train_scaled, y_train)\n",
    "\n",
    "# print(f'Training Score: {clf.score(x_train_scaled, y_train)}')\n",
    "# print(f'Testing Score: {clf.score(x_test_scaled, y_test)}')"
   ]
  },
  {
   "cell_type": "code",
   "execution_count": null,
   "id": "20b8f150",
   "metadata": {},
   "outputs": [],
   "source": []
  },
  {
   "cell_type": "code",
   "execution_count": null,
   "id": "83fc3f5a",
   "metadata": {},
   "outputs": [],
   "source": []
  },
  {
   "cell_type": "code",
   "execution_count": null,
   "id": "d662ab29",
   "metadata": {},
   "outputs": [],
   "source": []
  },
  {
   "cell_type": "code",
   "execution_count": null,
   "id": "ed375105",
   "metadata": {},
   "outputs": [],
   "source": []
  },
  {
   "cell_type": "code",
   "execution_count": null,
   "id": "e3e5c191",
   "metadata": {},
   "outputs": [],
   "source": []
  },
  {
   "cell_type": "code",
   "execution_count": null,
   "id": "58acce7f",
   "metadata": {},
   "outputs": [],
   "source": []
  }
 ],
 "metadata": {
  "kernelspec": {
   "display_name": "Python 3 (ipykernel)",
   "language": "python",
   "name": "python3"
  },
  "language_info": {
   "codemirror_mode": {
    "name": "ipython",
    "version": 3
   },
   "file_extension": ".py",
   "mimetype": "text/x-python",
   "name": "python",
   "nbconvert_exporter": "python",
   "pygments_lexer": "ipython3",
   "version": "3.9.12"
  }
 },
 "nbformat": 4,
 "nbformat_minor": 5
}
